{
 "cells": [
  {
   "cell_type": "code",
   "execution_count": 16,
   "id": "ba8abd3a",
   "metadata": {},
   "outputs": [],
   "source": [
    "import pandas as pd\n",
    "import numpy as np\n",
    "import seaborn as sns\n",
    "import matplotlib.pyplot as plt"
   ]
  },
  {
   "cell_type": "code",
   "execution_count": 36,
   "id": "4198e64d",
   "metadata": {},
   "outputs": [],
   "source": [
    "df = pd.read_csv('real_estate_cleaned_v2.csv')"
   ]
  },
  {
   "cell_type": "code",
   "execution_count": 37,
   "id": "77422da1",
   "metadata": {},
   "outputs": [
    {
     "data": {
      "text/html": [
       "<div>\n",
       "<style scoped>\n",
       "    .dataframe tbody tr th:only-of-type {\n",
       "        vertical-align: middle;\n",
       "    }\n",
       "\n",
       "    .dataframe tbody tr th {\n",
       "        vertical-align: top;\n",
       "    }\n",
       "\n",
       "    .dataframe thead th {\n",
       "        text-align: right;\n",
       "    }\n",
       "</style>\n",
       "<table border=\"1\" class=\"dataframe\">\n",
       "  <thead>\n",
       "    <tr style=\"text-align: right;\">\n",
       "      <th></th>\n",
       "      <th>flat_price</th>\n",
       "      <th>buildup_area_sqft</th>\n",
       "      <th>price_per_sqft</th>\n",
       "      <th>new_age</th>\n",
       "      <th>carpet_area</th>\n",
       "      <th>bedrooms</th>\n",
       "      <th>bathrooms</th>\n",
       "      <th>balcony</th>\n",
       "    </tr>\n",
       "  </thead>\n",
       "  <tbody>\n",
       "    <tr>\n",
       "      <th>count</th>\n",
       "      <td>4433.00</td>\n",
       "      <td>4433.00</td>\n",
       "      <td>4433.00</td>\n",
       "      <td>1553.00</td>\n",
       "      <td>3775.00</td>\n",
       "      <td>4426.00</td>\n",
       "      <td>4070.00</td>\n",
       "      <td>4113.00</td>\n",
       "    </tr>\n",
       "    <tr>\n",
       "      <th>mean</th>\n",
       "      <td>2.41</td>\n",
       "      <td>1007.43</td>\n",
       "      <td>20820.77</td>\n",
       "      <td>1.79</td>\n",
       "      <td>754.03</td>\n",
       "      <td>2.05</td>\n",
       "      <td>2.16</td>\n",
       "      <td>0.97</td>\n",
       "    </tr>\n",
       "    <tr>\n",
       "      <th>std</th>\n",
       "      <td>3.11</td>\n",
       "      <td>554.15</td>\n",
       "      <td>13584.70</td>\n",
       "      <td>1.02</td>\n",
       "      <td>459.63</td>\n",
       "      <td>0.91</td>\n",
       "      <td>0.73</td>\n",
       "      <td>1.14</td>\n",
       "    </tr>\n",
       "    <tr>\n",
       "      <th>min</th>\n",
       "      <td>0.14</td>\n",
       "      <td>300.00</td>\n",
       "      <td>2540.00</td>\n",
       "      <td>1.00</td>\n",
       "      <td>201.00</td>\n",
       "      <td>1.00</td>\n",
       "      <td>1.00</td>\n",
       "      <td>0.00</td>\n",
       "    </tr>\n",
       "    <tr>\n",
       "      <th>25%</th>\n",
       "      <td>0.78</td>\n",
       "      <td>677.00</td>\n",
       "      <td>9650.00</td>\n",
       "      <td>1.00</td>\n",
       "      <td>456.00</td>\n",
       "      <td>1.00</td>\n",
       "      <td>2.00</td>\n",
       "      <td>0.00</td>\n",
       "    </tr>\n",
       "    <tr>\n",
       "      <th>50%</th>\n",
       "      <td>1.45</td>\n",
       "      <td>860.00</td>\n",
       "      <td>18570.00</td>\n",
       "      <td>1.00</td>\n",
       "      <td>652.00</td>\n",
       "      <td>2.00</td>\n",
       "      <td>2.00</td>\n",
       "      <td>1.00</td>\n",
       "    </tr>\n",
       "    <tr>\n",
       "      <th>75%</th>\n",
       "      <td>2.70</td>\n",
       "      <td>1150.00</td>\n",
       "      <td>27000.00</td>\n",
       "      <td>2.00</td>\n",
       "      <td>848.50</td>\n",
       "      <td>3.00</td>\n",
       "      <td>2.00</td>\n",
       "      <td>2.00</td>\n",
       "    </tr>\n",
       "    <tr>\n",
       "      <th>max</th>\n",
       "      <td>45.00</td>\n",
       "      <td>6200.00</td>\n",
       "      <td>153000.00</td>\n",
       "      <td>4.00</td>\n",
       "      <td>5700.00</td>\n",
       "      <td>10.00</td>\n",
       "      <td>10.00</td>\n",
       "      <td>6.00</td>\n",
       "    </tr>\n",
       "  </tbody>\n",
       "</table>\n",
       "</div>"
      ],
      "text/plain": [
       "       flat_price  buildup_area_sqft  price_per_sqft  new_age  carpet_area  \\\n",
       "count     4433.00            4433.00         4433.00  1553.00      3775.00   \n",
       "mean         2.41            1007.43        20820.77     1.79       754.03   \n",
       "std          3.11             554.15        13584.70     1.02       459.63   \n",
       "min          0.14             300.00         2540.00     1.00       201.00   \n",
       "25%          0.78             677.00         9650.00     1.00       456.00   \n",
       "50%          1.45             860.00        18570.00     1.00       652.00   \n",
       "75%          2.70            1150.00        27000.00     2.00       848.50   \n",
       "max         45.00            6200.00       153000.00     4.00      5700.00   \n",
       "\n",
       "       bedrooms  bathrooms  balcony  \n",
       "count   4426.00    4070.00  4113.00  \n",
       "mean       2.05       2.16     0.97  \n",
       "std        0.91       0.73     1.14  \n",
       "min        1.00       1.00     0.00  \n",
       "25%        1.00       2.00     0.00  \n",
       "50%        2.00       2.00     1.00  \n",
       "75%        3.00       2.00     2.00  \n",
       "max       10.00      10.00     6.00  "
      ]
     },
     "execution_count": 37,
     "metadata": {},
     "output_type": "execute_result"
    }
   ],
   "source": [
    "df.describe()"
   ]
  },
  {
   "cell_type": "code",
   "execution_count": 13,
   "id": "43e46e3e",
   "metadata": {},
   "outputs": [
    {
     "name": "stderr",
     "output_type": "stream",
     "text": [
      "C:\\Users\\Shubham\\anaconda3\\Lib\\site-packages\\seaborn\\_oldcore.py:1119: FutureWarning: use_inf_as_na option is deprecated and will be removed in a future version. Convert inf values to NaN before operating instead.\n",
      "  with pd.option_context('mode.use_inf_as_na', True):\n"
     ]
    },
    {
     "data": {
      "text/plain": [
       "<Axes: xlabel='flat_price', ylabel='Count'>"
      ]
     },
     "execution_count": 13,
     "metadata": {},
     "output_type": "execute_result"
    },
    {
     "data": {
      "image/png": "[encoded data removed]",
      "text/plain": [
       "<Figure size 640x480 with 1 Axes>"
      ]
     },
     "metadata": {},
     "output_type": "display_data"
    }
   ],
   "source": [
    "sns.histplot(df['flat_price'])"
   ]
  },
  {
   "cell_type": "code",
   "execution_count": 19,
   "id": "af955aef",
   "metadata": {},
   "outputs": [
    {
     "data": {
      "text/plain": [
       "<Axes: >"
      ]
     },
     "execution_count": 19,
     "metadata": {},
     "output_type": "execute_result"
    },
    {
     "data": {
      "image/png": "[encoded data removed]",
      "text/plain": [
       "<Figure size 640x480 with 1 Axes>"
      ]
     },
     "metadata": {},
     "output_type": "display_data"
    }
   ],
   "source": [
    "sns.boxplot(df['flat_price'])"
   ]
  },
  {
   "cell_type": "code",
   "execution_count": 38,
   "id": "cf6f39fc",
   "metadata": {},
   "outputs": [
    {
     "data": {
      "text/html": [
       "<div>\n",
       "<style scoped>\n",
       "    .dataframe tbody tr th:only-of-type {\n",
       "        vertical-align: middle;\n",
       "    }\n",
       "\n",
       "    .dataframe tbody tr th {\n",
       "        vertical-align: top;\n",
       "    }\n",
       "\n",
       "    .dataframe thead th {\n",
       "        text-align: right;\n",
       "    }\n",
       "</style>\n",
       "<table border=\"1\" class=\"dataframe\">\n",
       "  <thead>\n",
       "    <tr style=\"text-align: right;\">\n",
       "      <th></th>\n",
       "      <th>flat_type</th>\n",
       "      <th>flat_price</th>\n",
       "      <th>location</th>\n",
       "      <th>buildup_area_sqft</th>\n",
       "      <th>price_per_sqft</th>\n",
       "      <th>age_of_property</th>\n",
       "      <th>new_age</th>\n",
       "      <th>which_floor</th>\n",
       "      <th>furnishing</th>\n",
       "      <th>carpet_area</th>\n",
       "      <th>bedrooms</th>\n",
       "      <th>bathrooms</th>\n",
       "      <th>balcony</th>\n",
       "      <th>parking</th>\n",
       "    </tr>\n",
       "  </thead>\n",
       "  <tbody>\n",
       "    <tr>\n",
       "      <th>5</th>\n",
       "      <td>5 BHK Flat</td>\n",
       "      <td>18.25</td>\n",
       "      <td>Juhu</td>\n",
       "      <td>5500.00</td>\n",
       "      <td>33180.00</td>\n",
       "      <td>3 Year Old</td>\n",
       "      <td>3.00</td>\n",
       "      <td>Middleof 9 floors</td>\n",
       "      <td>Fully Furnished</td>\n",
       "      <td>3300.00</td>\n",
       "      <td>5.00</td>\n",
       "      <td>5.00</td>\n",
       "      <td>3.00</td>\n",
       "      <td>Yes</td>\n",
       "    </tr>\n",
       "    <tr>\n",
       "      <th>48</th>\n",
       "      <td>6 BHK Flat</td>\n",
       "      <td>23.00</td>\n",
       "      <td>Worli</td>\n",
       "      <td>4000.00</td>\n",
       "      <td>57500.00</td>\n",
       "      <td>1 Years Old</td>\n",
       "      <td>1.00</td>\n",
       "      <td>Lowerof 78 floors</td>\n",
       "      <td>Semi Furnished</td>\n",
       "      <td>NaN</td>\n",
       "      <td>6.00</td>\n",
       "      <td>NaN</td>\n",
       "      <td>0.00</td>\n",
       "      <td>Yes</td>\n",
       "    </tr>\n",
       "    <tr>\n",
       "      <th>60</th>\n",
       "      <td>4 BHK Flat</td>\n",
       "      <td>13.50</td>\n",
       "      <td>Bandra West</td>\n",
       "      <td>1750.00</td>\n",
       "      <td>77140.00</td>\n",
       "      <td>2 Year Old</td>\n",
       "      <td>2.00</td>\n",
       "      <td>Middleof 17 floors</td>\n",
       "      <td>NaN</td>\n",
       "      <td>NaN</td>\n",
       "      <td>4.00</td>\n",
       "      <td>2.00</td>\n",
       "      <td>NaN</td>\n",
       "      <td>Yes</td>\n",
       "    </tr>\n",
       "    <tr>\n",
       "      <th>70</th>\n",
       "      <td>4 BHK Flat</td>\n",
       "      <td>9.36</td>\n",
       "      <td>Wadala</td>\n",
       "      <td>3750.00</td>\n",
       "      <td>24970.00</td>\n",
       "      <td>3 Year Old</td>\n",
       "      <td>3.00</td>\n",
       "      <td>Middleof 60 floors</td>\n",
       "      <td>Semi Furnished</td>\n",
       "      <td>2500.00</td>\n",
       "      <td>4.00</td>\n",
       "      <td>4.00</td>\n",
       "      <td>0.00</td>\n",
       "      <td>Yes</td>\n",
       "    </tr>\n",
       "    <tr>\n",
       "      <th>92</th>\n",
       "      <td>3 BHK Flat</td>\n",
       "      <td>12.50</td>\n",
       "      <td>Juhu</td>\n",
       "      <td>2600.00</td>\n",
       "      <td>48080.00</td>\n",
       "      <td>4 Year Old</td>\n",
       "      <td>4.00</td>\n",
       "      <td>Lowerof 16 floors</td>\n",
       "      <td>Semi Furnished</td>\n",
       "      <td>NaN</td>\n",
       "      <td>4.00</td>\n",
       "      <td>4.00</td>\n",
       "      <td>NaN</td>\n",
       "      <td>Yes</td>\n",
       "    </tr>\n",
       "    <tr>\n",
       "      <th>...</th>\n",
       "      <td>...</td>\n",
       "      <td>...</td>\n",
       "      <td>...</td>\n",
       "      <td>...</td>\n",
       "      <td>...</td>\n",
       "      <td>...</td>\n",
       "      <td>...</td>\n",
       "      <td>...</td>\n",
       "      <td>...</td>\n",
       "      <td>...</td>\n",
       "      <td>...</td>\n",
       "      <td>...</td>\n",
       "      <td>...</td>\n",
       "      <td>...</td>\n",
       "    </tr>\n",
       "    <tr>\n",
       "      <th>4297</th>\n",
       "      <td>4 BHK Flat</td>\n",
       "      <td>11.50</td>\n",
       "      <td>Chembur</td>\n",
       "      <td>2258.00</td>\n",
       "      <td>50930.00</td>\n",
       "      <td>Ready to move</td>\n",
       "      <td>NaN</td>\n",
       "      <td>unknown</td>\n",
       "      <td>NaN</td>\n",
       "      <td>2158.00</td>\n",
       "      <td>4.00</td>\n",
       "      <td>4.00</td>\n",
       "      <td>2.00</td>\n",
       "      <td>Yes</td>\n",
       "    </tr>\n",
       "    <tr>\n",
       "      <th>4348</th>\n",
       "      <td>3 BHK Flat</td>\n",
       "      <td>7.85</td>\n",
       "      <td>Mahalakshmi</td>\n",
       "      <td>1400.00</td>\n",
       "      <td>56070.00</td>\n",
       "      <td>3 BHK</td>\n",
       "      <td>NaN</td>\n",
       "      <td>Middleof 64 floors</td>\n",
       "      <td>Semi Furnished</td>\n",
       "      <td>1290.00</td>\n",
       "      <td>3.00</td>\n",
       "      <td>3.00</td>\n",
       "      <td>1.00</td>\n",
       "      <td>Yes</td>\n",
       "    </tr>\n",
       "    <tr>\n",
       "      <th>4360</th>\n",
       "      <td>3 BHK Flat</td>\n",
       "      <td>17.73</td>\n",
       "      <td>Bandra West</td>\n",
       "      <td>1564.00</td>\n",
       "      <td>113000.00</td>\n",
       "      <td>3 BHK</td>\n",
       "      <td>NaN</td>\n",
       "      <td>Lowerof 20 floors</td>\n",
       "      <td>Unfurnished</td>\n",
       "      <td>1564.00</td>\n",
       "      <td>3.00</td>\n",
       "      <td>3.00</td>\n",
       "      <td>1.00</td>\n",
       "      <td>Yes</td>\n",
       "    </tr>\n",
       "    <tr>\n",
       "      <th>4361</th>\n",
       "      <td>4 BHK Flat</td>\n",
       "      <td>41.58</td>\n",
       "      <td>Bandra West</td>\n",
       "      <td>2725.00</td>\n",
       "      <td>153000.00</td>\n",
       "      <td>4 BHK</td>\n",
       "      <td>NaN</td>\n",
       "      <td>Middleof 20 floors</td>\n",
       "      <td>Unfurnished</td>\n",
       "      <td>2725.00</td>\n",
       "      <td>4.00</td>\n",
       "      <td>4.00</td>\n",
       "      <td>1.00</td>\n",
       "      <td>Yes</td>\n",
       "    </tr>\n",
       "    <tr>\n",
       "      <th>4416</th>\n",
       "      <td>4 BHK Flat</td>\n",
       "      <td>16.00</td>\n",
       "      <td>Juhu</td>\n",
       "      <td>2804.00</td>\n",
       "      <td>57060.00</td>\n",
       "      <td>4 BHK</td>\n",
       "      <td>NaN</td>\n",
       "      <td>Higherof 16 floors</td>\n",
       "      <td>NaN</td>\n",
       "      <td>NaN</td>\n",
       "      <td>3.00</td>\n",
       "      <td>1.00</td>\n",
       "      <td>NaN</td>\n",
       "      <td>Yes</td>\n",
       "    </tr>\n",
       "  </tbody>\n",
       "</table>\n",
       "<p>222 rows × 14 columns</p>\n",
       "</div>"
      ],
      "text/plain": [
       "       flat_type  flat_price     location  buildup_area_sqft  price_per_sqft  \\\n",
       "5     5 BHK Flat       18.25         Juhu            5500.00        33180.00   \n",
       "48    6 BHK Flat       23.00        Worli            4000.00        57500.00   \n",
       "60    4 BHK Flat       13.50  Bandra West            1750.00        77140.00   \n",
       "70    4 BHK Flat        9.36       Wadala            3750.00        24970.00   \n",
       "92    3 BHK Flat       12.50         Juhu            2600.00        48080.00   \n",
       "...          ...         ...          ...                ...             ...   \n",
       "4297  4 BHK Flat       11.50      Chembur            2258.00        50930.00   \n",
       "4348  3 BHK Flat        7.85  Mahalakshmi            1400.00        56070.00   \n",
       "4360  3 BHK Flat       17.73  Bandra West            1564.00       113000.00   \n",
       "4361  4 BHK Flat       41.58  Bandra West            2725.00       153000.00   \n",
       "4416  4 BHK Flat       16.00         Juhu            2804.00        57060.00   \n",
       "\n",
       "     age_of_property  new_age         which_floor       furnishing  \\\n",
       "5         3 Year Old     3.00   Middleof 9 floors  Fully Furnished   \n",
       "48       1 Years Old     1.00   Lowerof 78 floors   Semi Furnished   \n",
       "60        2 Year Old     2.00  Middleof 17 floors              NaN   \n",
       "70        3 Year Old     3.00  Middleof 60 floors   Semi Furnished   \n",
       "92        4 Year Old     4.00   Lowerof 16 floors   Semi Furnished   \n",
       "...              ...      ...                 ...              ...   \n",
       "4297   Ready to move      NaN             unknown              NaN   \n",
       "4348           3 BHK      NaN  Middleof 64 floors   Semi Furnished   \n",
       "4360           3 BHK      NaN   Lowerof 20 floors      Unfurnished   \n",
       "4361           4 BHK      NaN  Middleof 20 floors      Unfurnished   \n",
       "4416           4 BHK      NaN  Higherof 16 floors              NaN   \n",
       "\n",
       "      carpet_area  bedrooms  bathrooms  balcony parking  \n",
       "5         3300.00      5.00       5.00     3.00     Yes  \n",
       "48            NaN      6.00        NaN     0.00     Yes  \n",
       "60            NaN      4.00       2.00      NaN     Yes  \n",
       "70        2500.00      4.00       4.00     0.00     Yes  \n",
       "92            NaN      4.00       4.00      NaN     Yes  \n",
       "...           ...       ...        ...      ...     ...  \n",
       "4297      2158.00      4.00       4.00     2.00     Yes  \n",
       "4348      1290.00      3.00       3.00     1.00     Yes  \n",
       "4360      1564.00      3.00       3.00     1.00     Yes  \n",
       "4361      2725.00      4.00       4.00     1.00     Yes  \n",
       "4416          NaN      3.00       1.00      NaN     Yes  \n",
       "\n",
       "[222 rows x 14 columns]"
      ]
     },
     "execution_count": 38,
     "metadata": {},
     "output_type": "execute_result"
    }
   ],
   "source": [
    "df[df['flat_price']>np.percentile(df['flat_price'],95)]"
   ]
  },
  {
   "cell_type": "code",
   "execution_count": 39,
   "id": "41523031",
   "metadata": {},
   "outputs": [],
   "source": [
    "#Upon searching, i realised the value is correct, however we will have to remove it sicne its an extreme value\n",
    "df.drop(index=df[df['flat_price'] == 45.0].index,inplace=True)"
   ]
  },
  {
   "cell_type": "code",
   "execution_count": 40,
   "id": "ddcf8fd4",
   "metadata": {},
   "outputs": [
    {
     "data": {
      "text/plain": [
       "<Axes: >"
      ]
     },
     "execution_count": 40,
     "metadata": {},
     "output_type": "execute_result"
    },
    {
     "data": {
      "image/png": "[encoded data removed]",
      "text/plain": [
       "<Figure size 640x480 with 1 Axes>"
      ]
     },
     "metadata": {},
     "output_type": "display_data"
    }
   ],
   "source": [
    "sns.boxplot(df['flat_price'])"
   ]
  },
  {
   "cell_type": "code",
   "execution_count": 41,
   "id": "a48883d9",
   "metadata": {},
   "outputs": [],
   "source": [
    "df.drop(index=df[df['flat_price'] > 30].index,inplace=True)"
   ]
  },
  {
   "cell_type": "code",
   "execution_count": 43,
   "id": "a4433331",
   "metadata": {},
   "outputs": [
    {
     "data": {
      "text/plain": [
       "<Axes: >"
      ]
     },
     "execution_count": 43,
     "metadata": {},
     "output_type": "execute_result"
    },
    {
     "data": {
      "image/png": "[encoded data removed]",
      "text/plain": [
       "<Figure size 640x480 with 1 Axes>"
      ]
     },
     "metadata": {},
     "output_type": "display_data"
    }
   ],
   "source": [
    "sns.boxplot(df['flat_price'])"
   ]
  },
  {
   "cell_type": "code",
   "execution_count": 45,
   "id": "15701703",
   "metadata": {},
   "outputs": [
    {
     "data": {
      "text/plain": [
       "(array([3.395e+03, 6.440e+02, 2.020e+02, 7.400e+01, 5.900e+01, 2.500e+01,\n",
       "        1.400e+01, 7.000e+00, 3.000e+00, 1.000e+00]),\n",
       " array([ 0.14 ,  2.825,  5.51 ,  8.195, 10.88 , 13.565, 16.25 , 18.935,\n",
       "        21.62 , 24.305, 26.99 ]),\n",
       " <BarContainer object of 10 artists>)"
      ]
     },
     "execution_count": 45,
     "metadata": {},
     "output_type": "execute_result"
    },
    {
     "data": {
      "image/png": "[encoded data removed]",
      "text/plain": [
       "<Figure size 640x480 with 1 Axes>"
      ]
     },
     "metadata": {},
     "output_type": "display_data"
    }
   ],
   "source": [
    "plt.hist(df['flat_price'])"
   ]
  },
  {
   "cell_type": "code",
   "execution_count": 48,
   "id": "74c78321",
   "metadata": {},
   "outputs": [
    {
     "data": {
      "text/plain": [
       "(array([2.268e+03, 1.601e+03, 3.490e+02, 1.270e+02, 3.600e+01, 2.500e+01,\n",
       "        1.000e+01, 4.000e+00, 2.000e+00, 2.000e+00]),\n",
       " array([ 300.,  878., 1456., 2034., 2612., 3190., 3768., 4346., 4924.,\n",
       "        5502., 6080.]),\n",
       " <BarContainer object of 10 artists>)"
      ]
     },
     "execution_count": 48,
     "metadata": {},
     "output_type": "execute_result"
    },
    {
     "data": {
      "image/png": "[encoded data removed]",
      "text/plain": [
       "<Figure size 640x480 with 1 Axes>"
      ]
     },
     "metadata": {},
     "output_type": "display_data"
    }
   ],
   "source": [
    "plt.hist(df['buildup_area_sqft'])"
   ]
  },
  {
   "cell_type": "code",
   "execution_count": 49,
   "id": "3d0da1d8",
   "metadata": {},
   "outputs": [
    {
     "data": {
      "text/plain": [
       "<Axes: >"
      ]
     },
     "execution_count": 49,
     "metadata": {},
     "output_type": "execute_result"
    },
    {
     "data": {
      "image/png": "[encoded data removed]",
      "text/plain": [
       "<Figure size 640x480 with 1 Axes>"
      ]
     },
     "metadata": {},
     "output_type": "display_data"
    }
   ],
   "source": [
    "sns.boxplot(df['buildup_area_sqft'])"
   ]
  },
  {
   "cell_type": "code",
   "execution_count": 51,
   "id": "c1a8af5b",
   "metadata": {},
   "outputs": [],
   "source": [
    "df.drop(index=df[df['buildup_area_sqft']>5000].index,inplace=True)"
   ]
  },
  {
   "cell_type": "code",
   "execution_count": 55,
   "id": "811c2f44",
   "metadata": {
    "scrolled": false
   },
   "outputs": [
    {
     "data": {
      "text/plain": [
       "(array([1716., 1784.,  550.,  194.,   97.,   30.,   26.,   10.,   10.,\n",
       "           3.]),\n",
       " array([ 300. ,  756.2, 1212.4, 1668.6, 2124.8, 2581. , 3037.2, 3493.4,\n",
       "        3949.6, 4405.8, 4862. ]),\n",
       " <BarContainer object of 10 artists>)"
      ]
     },
     "execution_count": 55,
     "metadata": {},
     "output_type": "execute_result"
    },
    {
     "data": {
      "image/png": "[encoded data removed]",
      "text/plain": [
       "<Figure size 640x480 with 1 Axes>"
      ]
     },
     "metadata": {},
     "output_type": "display_data"
    }
   ],
   "source": [
    "plt.hist(df['buildup_area_sqft'])"
   ]
  },
  {
   "cell_type": "code",
   "execution_count": 53,
   "id": "50d64286",
   "metadata": {},
   "outputs": [
    {
     "data": {
      "text/plain": [
       "(array([1.717e+03, 1.333e+03, 8.180e+02, 3.090e+02, 1.660e+02, 6.000e+01,\n",
       "        1.200e+01, 3.000e+00, 1.000e+00, 1.000e+00]),\n",
       " array([  2540.,  13586.,  24632.,  35678.,  46724.,  57770.,  68816.,\n",
       "         79862.,  90908., 101954., 113000.]),\n",
       " <BarContainer object of 10 artists>)"
      ]
     },
     "execution_count": 53,
     "metadata": {},
     "output_type": "execute_result"
    },
    {
     "data": {
      "image/png": "[encoded data removed]",
      "text/plain": [
       "<Figure size 640x480 with 1 Axes>"
      ]
     },
     "metadata": {},
     "output_type": "display_data"
    }
   ],
   "source": [
    "plt.hist(df['price_per_sqft'])"
   ]
  },
  {
   "cell_type": "code",
   "execution_count": 59,
   "id": "70a485d3",
   "metadata": {
    "scrolled": false
   },
   "outputs": [],
   "source": [
    "df.drop(index=df[df['price_per_sqft']>75000].index,inplace=True)"
   ]
  },
  {
   "cell_type": "code",
   "execution_count": 61,
   "id": "204d6429",
   "metadata": {},
   "outputs": [
    {
     "data": {
      "text/plain": [
       "(array([1156.,  863.,  993.,  662.,  317.,  167.,  130.,   81.,   28.,\n",
       "          15.]),\n",
       " array([ 2540.,  9786., 17032., 24278., 31524., 38770., 46016., 53262.,\n",
       "        60508., 67754., 75000.]),\n",
       " <BarContainer object of 10 artists>)"
      ]
     },
     "execution_count": 61,
     "metadata": {},
     "output_type": "execute_result"
    },
    {
     "data": {
      "image/png": "[encoded data removed]",
      "text/plain": [
       "<Figure size 640x480 with 1 Axes>"
      ]
     },
     "metadata": {},
     "output_type": "display_data"
    }
   ],
   "source": [
    "plt.hist(df['price_per_sqft'])"
   ]
  },
  {
   "cell_type": "code",
   "execution_count": 65,
   "id": "f3fd24c4",
   "metadata": {},
   "outputs": [
    {
     "data": {
      "text/plain": [
       "new_age\n",
       "NaN     2870\n",
       "1.00     852\n",
       "2.00     321\n",
       "3.00     218\n",
       "4.00     151\n",
       "Name: count, dtype: int64"
      ]
     },
     "execution_count": 65,
     "metadata": {},
     "output_type": "execute_result"
    }
   ],
   "source": [
    "df['new_age'].value_counts(dropna=False)"
   ]
  },
  {
   "cell_type": "code",
   "execution_count": 68,
   "id": "0e2ec899",
   "metadata": {},
   "outputs": [
    {
     "data": {
      "text/plain": [
       "<Axes: >"
      ]
     },
     "execution_count": 68,
     "metadata": {},
     "output_type": "execute_result"
    },
    {
     "data": {
      "image/png": "[encoded data removed]",
      "text/plain": [
       "<Figure size 640x480 with 1 Axes>"
      ]
     },
     "metadata": {},
     "output_type": "display_data"
    }
   ],
   "source": [
    "sns.boxplot(df['carpet_area'])"
   ]
  },
  {
   "cell_type": "code",
   "execution_count": 69,
   "id": "9f9d0a0b",
   "metadata": {},
   "outputs": [
    {
     "data": {
      "text/plain": [
       "(array([1604., 1552.,  369.,  122.,   70.,   21.,   11.,    5.,    2.,\n",
       "           5.]),\n",
       " array([ 201. ,  610.9, 1020.8, 1430.7, 1840.6, 2250.5, 2660.4, 3070.3,\n",
       "        3480.2, 3890.1, 4300. ]),\n",
       " <BarContainer object of 10 artists>)"
      ]
     },
     "execution_count": 69,
     "metadata": {},
     "output_type": "execute_result"
    },
    {
     "data": {
      "image/png": "[encoded data removed]",
      "text/plain": [
       "<Figure size 640x480 with 1 Axes>"
      ]
     },
     "metadata": {},
     "output_type": "display_data"
    }
   ],
   "source": [
    "plt.hist(df['carpet_area'])"
   ]
  },
  {
   "cell_type": "code",
   "execution_count": 71,
   "id": "8d5f5b47",
   "metadata": {},
   "outputs": [],
   "source": [
    "df.drop(index=df[df['carpet_area'] > 3000].index,inplace=True)"
   ]
  },
  {
   "cell_type": "code",
   "execution_count": 72,
   "id": "15699ddf",
   "metadata": {},
   "outputs": [
    {
     "data": {
      "text/plain": [
       "(array([1069., 1444.,  652.,  294.,  124.,   71.,   44.,   28.,   12.,\n",
       "           8.]),\n",
       " array([ 201. ,  475.9,  750.8, 1025.7, 1300.6, 1575.5, 1850.4, 2125.3,\n",
       "        2400.2, 2675.1, 2950. ]),\n",
       " <BarContainer object of 10 artists>)"
      ]
     },
     "execution_count": 72,
     "metadata": {},
     "output_type": "execute_result"
    },
    {
     "data": {
      "image/png": "[encoded data removed]",
      "text/plain": [
       "<Figure size 640x480 with 1 Axes>"
      ]
     },
     "metadata": {},
     "output_type": "display_data"
    }
   ],
   "source": [
    "plt.hist(df['carpet_area'])"
   ]
  },
  {
   "cell_type": "code",
   "execution_count": 75,
   "id": "51f52387",
   "metadata": {},
   "outputs": [
    {
     "data": {
      "text/plain": [
       "bedrooms\n",
       "2.00    1974\n",
       "1.00    1289\n",
       "3.00     900\n",
       "4.00     189\n",
       "5.00      26\n",
       "6.00      11\n",
       "NaN        7\n",
       "9.00       1\n",
       "Name: count, dtype: int64"
      ]
     },
     "execution_count": 75,
     "metadata": {},
     "output_type": "execute_result"
    }
   ],
   "source": [
    "df['bedrooms'].value_counts(dropna=False)"
   ]
  },
  {
   "cell_type": "code",
   "execution_count": 77,
   "id": "a6a10506",
   "metadata": {},
   "outputs": [
    {
     "data": {
      "text/plain": [
       "(array([1.289e+03, 1.974e+03, 9.000e+02, 1.890e+02, 0.000e+00, 2.600e+01,\n",
       "        1.100e+01, 0.000e+00, 0.000e+00, 1.000e+00]),\n",
       " array([1. , 1.8, 2.6, 3.4, 4.2, 5. , 5.8, 6.6, 7.4, 8.2, 9. ]),\n",
       " <BarContainer object of 10 artists>)"
      ]
     },
     "execution_count": 77,
     "metadata": {},
     "output_type": "execute_result"
    },
    {
     "data": {
      "image/png": "[encoded data removed]",
      "text/plain": [
       "<Figure size 640x480 with 1 Axes>"
      ]
     },
     "metadata": {},
     "output_type": "display_data"
    }
   ],
   "source": [
    "plt.hist(df['bedrooms'])"
   ]
  },
  {
   "cell_type": "code",
   "execution_count": 78,
   "id": "c8d23778",
   "metadata": {},
   "outputs": [
    {
     "data": {
      "text/plain": [
       "<Axes: >"
      ]
     },
     "execution_count": 78,
     "metadata": {},
     "output_type": "execute_result"
    },
    {
     "data": {
      "image/png": "[encoded data removed]",
      "text/plain": [
       "<Figure size 640x480 with 1 Axes>"
      ]
     },
     "metadata": {},
     "output_type": "display_data"
    }
   ],
   "source": [
    "sns.boxplot(df['bedrooms'])"
   ]
  },
  {
   "cell_type": "code",
   "execution_count": 80,
   "id": "a5e88c4c",
   "metadata": {},
   "outputs": [],
   "source": [
    "df.drop(index=df[df['bedrooms']==9].index,inplace=True)"
   ]
  },
  {
   "cell_type": "code",
   "execution_count": 81,
   "id": "2722aa7b",
   "metadata": {},
   "outputs": [
    {
     "data": {
      "text/plain": [
       "<Axes: >"
      ]
     },
     "execution_count": 81,
     "metadata": {},
     "output_type": "execute_result"
    },
    {
     "data": {
      "image/png": "[encoded data removed]",
      "text/plain": [
       "<Figure size 640x480 with 1 Axes>"
      ]
     },
     "metadata": {},
     "output_type": "display_data"
    }
   ],
   "source": [
    "sns.boxplot(df['bedrooms'])"
   ]
  },
  {
   "cell_type": "code",
   "execution_count": 86,
   "id": "74d46f49",
   "metadata": {},
   "outputs": [
    {
     "data": {
      "text/plain": [
       "(array([ 497.,    0., 2641.,    0.,  745.,    0.,  122.,    0.,   24.,\n",
       "           4.]),\n",
       " array([1. , 1.5, 2. , 2.5, 3. , 3.5, 4. , 4.5, 5. , 5.5, 6. ]),\n",
       " <BarContainer object of 10 artists>)"
      ]
     },
     "execution_count": 86,
     "metadata": {},
     "output_type": "execute_result"
    },
    {
     "data": {
      "image/png": "[encoded data removed]",
      "text/plain": [
       "<Figure size 640x480 with 1 Axes>"
      ]
     },
     "metadata": {},
     "output_type": "display_data"
    }
   ],
   "source": [
    "plt.hist(df['bathrooms'])"
   ]
  },
  {
   "cell_type": "code",
   "execution_count": 87,
   "id": "c7268195",
   "metadata": {},
   "outputs": [
    {
     "data": {
      "text/plain": [
       "count   4033.00\n",
       "mean       2.14\n",
       "std        0.69\n",
       "min        1.00\n",
       "25%        2.00\n",
       "50%        2.00\n",
       "75%        2.00\n",
       "max        6.00\n",
       "Name: bathrooms, dtype: float64"
      ]
     },
     "execution_count": 87,
     "metadata": {},
     "output_type": "execute_result"
    }
   ],
   "source": [
    "df['bathrooms'].describe()"
   ]
  },
  {
   "cell_type": "code",
   "execution_count": 89,
   "id": "4c0cc677",
   "metadata": {},
   "outputs": [],
   "source": [
    "df.drop(index=df[df['bathrooms'] > 5].index,inplace=True)"
   ]
  },
  {
   "cell_type": "code",
   "execution_count": 93,
   "id": "f7720361",
   "metadata": {},
   "outputs": [
    {
     "data": {
      "text/plain": [
       "(array([ 497.,    0., 2641.,    0.,    0.,  745.,    0.,  122.,    0.,\n",
       "          24.]),\n",
       " array([1. , 1.4, 1.8, 2.2, 2.6, 3. , 3.4, 3.8, 4.2, 4.6, 5. ]),\n",
       " <BarContainer object of 10 artists>)"
      ]
     },
     "execution_count": 93,
     "metadata": {},
     "output_type": "execute_result"
    },
    {
     "data": {
      "image/png": "[encoded data removed]",
      "text/plain": [
       "<Figure size 640x480 with 1 Axes>"
      ]
     },
     "metadata": {},
     "output_type": "display_data"
    }
   ],
   "source": [
    "plt.hist(df['bathrooms'])"
   ]
  },
  {
   "cell_type": "code",
   "execution_count": 97,
   "id": "a242c153",
   "metadata": {},
   "outputs": [
    {
     "data": {
      "text/plain": [
       "balcony\n",
       "0.00    1971\n",
       "1.00     883\n",
       "2.00     716\n",
       "3.00     412\n",
       "4.00      90\n",
       "5.00       7\n",
       "6.00       1\n",
       "Name: count, dtype: int64"
      ]
     },
     "execution_count": 97,
     "metadata": {},
     "output_type": "execute_result"
    }
   ],
   "source": [
    "df['balcony'].value_counts()"
   ]
  },
  {
   "cell_type": "code",
   "execution_count": 98,
   "id": "2784643b",
   "metadata": {},
   "outputs": [
    {
     "data": {
      "text/html": [
       "<div>\n",
       "<style scoped>\n",
       "    .dataframe tbody tr th:only-of-type {\n",
       "        vertical-align: middle;\n",
       "    }\n",
       "\n",
       "    .dataframe tbody tr th {\n",
       "        vertical-align: top;\n",
       "    }\n",
       "\n",
       "    .dataframe thead th {\n",
       "        text-align: right;\n",
       "    }\n",
       "</style>\n",
       "<table border=\"1\" class=\"dataframe\">\n",
       "  <thead>\n",
       "    <tr style=\"text-align: right;\">\n",
       "      <th></th>\n",
       "      <th>flat_type</th>\n",
       "      <th>flat_price</th>\n",
       "      <th>location</th>\n",
       "      <th>buildup_area_sqft</th>\n",
       "      <th>price_per_sqft</th>\n",
       "      <th>age_of_property</th>\n",
       "      <th>new_age</th>\n",
       "      <th>which_floor</th>\n",
       "      <th>furnishing</th>\n",
       "      <th>carpet_area</th>\n",
       "      <th>bedrooms</th>\n",
       "      <th>bathrooms</th>\n",
       "      <th>balcony</th>\n",
       "      <th>parking</th>\n",
       "    </tr>\n",
       "  </thead>\n",
       "  <tbody>\n",
       "    <tr>\n",
       "      <th>383</th>\n",
       "      <td>5 BHK Flat</td>\n",
       "      <td>7.75</td>\n",
       "      <td>Santacruz East</td>\n",
       "      <td>2132.00</td>\n",
       "      <td>36350.00</td>\n",
       "      <td>1 Years Old</td>\n",
       "      <td>1.00</td>\n",
       "      <td>Middleof 16 floors</td>\n",
       "      <td>Unfurnished</td>\n",
       "      <td>1777.00</td>\n",
       "      <td>5.00</td>\n",
       "      <td>5.00</td>\n",
       "      <td>6.00</td>\n",
       "      <td>Yes</td>\n",
       "    </tr>\n",
       "    <tr>\n",
       "      <th>603</th>\n",
       "      <td>3 BHK Flat</td>\n",
       "      <td>4.61</td>\n",
       "      <td>Powai</td>\n",
       "      <td>1980.00</td>\n",
       "      <td>23280.00</td>\n",
       "      <td>2 Year Old</td>\n",
       "      <td>2.00</td>\n",
       "      <td>Higherof 14 floors</td>\n",
       "      <td>Semi Furnished</td>\n",
       "      <td>1351.00</td>\n",
       "      <td>3.00</td>\n",
       "      <td>3.00</td>\n",
       "      <td>5.00</td>\n",
       "      <td>Yes</td>\n",
       "    </tr>\n",
       "    <tr>\n",
       "      <th>607</th>\n",
       "      <td>4 BHK Flat</td>\n",
       "      <td>6.50</td>\n",
       "      <td>Chembur</td>\n",
       "      <td>2176.00</td>\n",
       "      <td>29870.00</td>\n",
       "      <td>4 Year Old</td>\n",
       "      <td>4.00</td>\n",
       "      <td>Higherof 11 floors</td>\n",
       "      <td>Semi Furnished</td>\n",
       "      <td>1700.00</td>\n",
       "      <td>4.00</td>\n",
       "      <td>4.00</td>\n",
       "      <td>5.00</td>\n",
       "      <td>Yes</td>\n",
       "    </tr>\n",
       "    <tr>\n",
       "      <th>2293</th>\n",
       "      <td>3 BHK Flat</td>\n",
       "      <td>1.50</td>\n",
       "      <td>Mira Road East</td>\n",
       "      <td>1260.00</td>\n",
       "      <td>11870.00</td>\n",
       "      <td>Ready to move</td>\n",
       "      <td>NaN</td>\n",
       "      <td>unknown</td>\n",
       "      <td>NaN</td>\n",
       "      <td>1007.00</td>\n",
       "      <td>3.00</td>\n",
       "      <td>3.00</td>\n",
       "      <td>5.00</td>\n",
       "      <td>Yes</td>\n",
       "    </tr>\n",
       "    <tr>\n",
       "      <th>2545</th>\n",
       "      <td>4 BHK Flat</td>\n",
       "      <td>13.50</td>\n",
       "      <td>Lower Parel</td>\n",
       "      <td>3000.00</td>\n",
       "      <td>45000.00</td>\n",
       "      <td>2 Year Old</td>\n",
       "      <td>2.00</td>\n",
       "      <td>Lowerof 60 floors</td>\n",
       "      <td>Fully Furnished</td>\n",
       "      <td>2400.00</td>\n",
       "      <td>4.00</td>\n",
       "      <td>5.00</td>\n",
       "      <td>5.00</td>\n",
       "      <td>Yes</td>\n",
       "    </tr>\n",
       "    <tr>\n",
       "      <th>2649</th>\n",
       "      <td>4 BHK Flat</td>\n",
       "      <td>9.79</td>\n",
       "      <td>Parel</td>\n",
       "      <td>3260.00</td>\n",
       "      <td>30030.00</td>\n",
       "      <td>Ready to move</td>\n",
       "      <td>NaN</td>\n",
       "      <td>unknown</td>\n",
       "      <td>NaN</td>\n",
       "      <td>2860.00</td>\n",
       "      <td>4.00</td>\n",
       "      <td>3.00</td>\n",
       "      <td>5.00</td>\n",
       "      <td>Yes</td>\n",
       "    </tr>\n",
       "    <tr>\n",
       "      <th>2664</th>\n",
       "      <td>4 BHK Flat</td>\n",
       "      <td>3.95</td>\n",
       "      <td>Chembur</td>\n",
       "      <td>1846.00</td>\n",
       "      <td>21400.00</td>\n",
       "      <td>4 BHK</td>\n",
       "      <td>NaN</td>\n",
       "      <td>Lowerof 30 floors</td>\n",
       "      <td>Unfurnished</td>\n",
       "      <td>1200.00</td>\n",
       "      <td>4.00</td>\n",
       "      <td>4.00</td>\n",
       "      <td>5.00</td>\n",
       "      <td>Yes</td>\n",
       "    </tr>\n",
       "    <tr>\n",
       "      <th>2917</th>\n",
       "      <td>4 BHK Flat</td>\n",
       "      <td>14.50</td>\n",
       "      <td>Lower Parel</td>\n",
       "      <td>3000.00</td>\n",
       "      <td>48330.00</td>\n",
       "      <td>4 Year Old</td>\n",
       "      <td>4.00</td>\n",
       "      <td>Lowerof 85 floors</td>\n",
       "      <td>Semi Furnished</td>\n",
       "      <td>2450.00</td>\n",
       "      <td>4.00</td>\n",
       "      <td>5.00</td>\n",
       "      <td>5.00</td>\n",
       "      <td>Yes</td>\n",
       "    </tr>\n",
       "  </tbody>\n",
       "</table>\n",
       "</div>"
      ],
      "text/plain": [
       "       flat_type  flat_price        location  buildup_area_sqft  \\\n",
       "383   5 BHK Flat        7.75  Santacruz East            2132.00   \n",
       "603   3 BHK Flat        4.61           Powai            1980.00   \n",
       "607   4 BHK Flat        6.50         Chembur            2176.00   \n",
       "2293  3 BHK Flat        1.50  Mira Road East            1260.00   \n",
       "2545  4 BHK Flat       13.50     Lower Parel            3000.00   \n",
       "2649  4 BHK Flat        9.79           Parel            3260.00   \n",
       "2664  4 BHK Flat        3.95         Chembur            1846.00   \n",
       "2917  4 BHK Flat       14.50     Lower Parel            3000.00   \n",
       "\n",
       "      price_per_sqft age_of_property  new_age         which_floor  \\\n",
       "383         36350.00     1 Years Old     1.00  Middleof 16 floors   \n",
       "603         23280.00      2 Year Old     2.00  Higherof 14 floors   \n",
       "607         29870.00      4 Year Old     4.00  Higherof 11 floors   \n",
       "2293        11870.00   Ready to move      NaN             unknown   \n",
       "2545        45000.00      2 Year Old     2.00   Lowerof 60 floors   \n",
       "2649        30030.00   Ready to move      NaN             unknown   \n",
       "2664        21400.00           4 BHK      NaN   Lowerof 30 floors   \n",
       "2917        48330.00      4 Year Old     4.00   Lowerof 85 floors   \n",
       "\n",
       "           furnishing  carpet_area  bedrooms  bathrooms  balcony parking  \n",
       "383       Unfurnished      1777.00      5.00       5.00     6.00     Yes  \n",
       "603    Semi Furnished      1351.00      3.00       3.00     5.00     Yes  \n",
       "607    Semi Furnished      1700.00      4.00       4.00     5.00     Yes  \n",
       "2293              NaN      1007.00      3.00       3.00     5.00     Yes  \n",
       "2545  Fully Furnished      2400.00      4.00       5.00     5.00     Yes  \n",
       "2649              NaN      2860.00      4.00       3.00     5.00     Yes  \n",
       "2664      Unfurnished      1200.00      4.00       4.00     5.00     Yes  \n",
       "2917   Semi Furnished      2450.00      4.00       5.00     5.00     Yes  "
      ]
     },
     "execution_count": 98,
     "metadata": {},
     "output_type": "execute_result"
    }
   ],
   "source": [
    "df[df['balcony']>=5]"
   ]
  },
  {
   "cell_type": "code",
   "execution_count": 104,
   "id": "e0a7a6cb",
   "metadata": {},
   "outputs": [
    {
     "data": {
      "text/plain": [
       "<Axes: >"
      ]
     },
     "execution_count": 104,
     "metadata": {},
     "output_type": "execute_result"
    },
    {
     "data": {
      "image/png": "[encoded data removed]",
      "text/plain": [
       "<Figure size 640x480 with 1 Axes>"
      ]
     },
     "metadata": {},
     "output_type": "display_data"
    }
   ],
   "source": [
    "sns.boxplot(df['balcony'])"
   ]
  },
  {
   "cell_type": "code",
   "execution_count": 106,
   "id": "ea15230f",
   "metadata": {},
   "outputs": [],
   "source": [
    "df.drop(index=383,inplace=True)"
   ]
  },
  {
   "cell_type": "code",
   "execution_count": 107,
   "id": "c32a05da",
   "metadata": {},
   "outputs": [
    {
     "name": "stdout",
     "output_type": "stream",
     "text": [
      "<class 'pandas.core.frame.DataFrame'>\n",
      "Index: 4391 entries, 0 to 4432\n",
      "Data columns (total 14 columns):\n",
      " #   Column             Non-Null Count  Dtype  \n",
      "---  ------             --------------  -----  \n",
      " 0   flat_type          4391 non-null   object \n",
      " 1   flat_price         4391 non-null   float64\n",
      " 2   location           4391 non-null   object \n",
      " 3   buildup_area_sqft  4391 non-null   float64\n",
      " 4   price_per_sqft     4391 non-null   float64\n",
      " 5   age_of_property    4391 non-null   object \n",
      " 6   new_age            1536 non-null   float64\n",
      " 7   which_floor        4274 non-null   object \n",
      " 8   furnishing         2523 non-null   object \n",
      " 9   carpet_area        3741 non-null   float64\n",
      " 10  bedrooms           4384 non-null   float64\n",
      " 11  bathrooms          4028 non-null   float64\n",
      " 12  balcony            4079 non-null   float64\n",
      " 13  parking            4391 non-null   object \n",
      "dtypes: float64(8), object(6)\n",
      "memory usage: 514.6+ KB\n"
     ]
    }
   ],
   "source": [
    "df.info()\n"
   ]
  },
  {
   "cell_type": "code",
   "execution_count": 108,
   "id": "8499177d",
   "metadata": {},
   "outputs": [
    {
     "data": {
      "text/html": [
       "<div>\n",
       "<style scoped>\n",
       "    .dataframe tbody tr th:only-of-type {\n",
       "        vertical-align: middle;\n",
       "    }\n",
       "\n",
       "    .dataframe tbody tr th {\n",
       "        vertical-align: top;\n",
       "    }\n",
       "\n",
       "    .dataframe thead th {\n",
       "        text-align: right;\n",
       "    }\n",
       "</style>\n",
       "<table border=\"1\" class=\"dataframe\">\n",
       "  <thead>\n",
       "    <tr style=\"text-align: right;\">\n",
       "      <th></th>\n",
       "      <th>flat_price</th>\n",
       "      <th>buildup_area_sqft</th>\n",
       "      <th>price_per_sqft</th>\n",
       "      <th>new_age</th>\n",
       "      <th>carpet_area</th>\n",
       "      <th>bedrooms</th>\n",
       "      <th>bathrooms</th>\n",
       "      <th>balcony</th>\n",
       "    </tr>\n",
       "  </thead>\n",
       "  <tbody>\n",
       "    <tr>\n",
       "      <th>count</th>\n",
       "      <td>4391.00</td>\n",
       "      <td>4391.00</td>\n",
       "      <td>4391.00</td>\n",
       "      <td>1536.00</td>\n",
       "      <td>3741.00</td>\n",
       "      <td>4384.00</td>\n",
       "      <td>4028.00</td>\n",
       "      <td>4079.00</td>\n",
       "    </tr>\n",
       "    <tr>\n",
       "      <th>mean</th>\n",
       "      <td>2.24</td>\n",
       "      <td>983.21</td>\n",
       "      <td>20443.22</td>\n",
       "      <td>1.79</td>\n",
       "      <td>731.07</td>\n",
       "      <td>2.02</td>\n",
       "      <td>2.14</td>\n",
       "      <td>0.97</td>\n",
       "    </tr>\n",
       "    <tr>\n",
       "      <th>std</th>\n",
       "      <td>2.43</td>\n",
       "      <td>477.99</td>\n",
       "      <td>12784.84</td>\n",
       "      <td>1.02</td>\n",
       "      <td>375.61</td>\n",
       "      <td>0.87</td>\n",
       "      <td>0.68</td>\n",
       "      <td>1.13</td>\n",
       "    </tr>\n",
       "    <tr>\n",
       "      <th>min</th>\n",
       "      <td>0.14</td>\n",
       "      <td>300.00</td>\n",
       "      <td>2540.00</td>\n",
       "      <td>1.00</td>\n",
       "      <td>201.00</td>\n",
       "      <td>1.00</td>\n",
       "      <td>1.00</td>\n",
       "      <td>0.00</td>\n",
       "    </tr>\n",
       "    <tr>\n",
       "      <th>25%</th>\n",
       "      <td>0.78</td>\n",
       "      <td>675.00</td>\n",
       "      <td>9600.00</td>\n",
       "      <td>1.00</td>\n",
       "      <td>455.00</td>\n",
       "      <td>1.00</td>\n",
       "      <td>2.00</td>\n",
       "      <td>0.00</td>\n",
       "    </tr>\n",
       "    <tr>\n",
       "      <th>50%</th>\n",
       "      <td>1.42</td>\n",
       "      <td>856.00</td>\n",
       "      <td>18460.00</td>\n",
       "      <td>1.00</td>\n",
       "      <td>650.00</td>\n",
       "      <td>2.00</td>\n",
       "      <td>2.00</td>\n",
       "      <td>1.00</td>\n",
       "    </tr>\n",
       "    <tr>\n",
       "      <th>75%</th>\n",
       "      <td>2.65</td>\n",
       "      <td>1150.00</td>\n",
       "      <td>26735.00</td>\n",
       "      <td>2.00</td>\n",
       "      <td>835.00</td>\n",
       "      <td>3.00</td>\n",
       "      <td>2.00</td>\n",
       "      <td>2.00</td>\n",
       "    </tr>\n",
       "    <tr>\n",
       "      <th>max</th>\n",
       "      <td>23.50</td>\n",
       "      <td>4720.00</td>\n",
       "      <td>75000.00</td>\n",
       "      <td>4.00</td>\n",
       "      <td>2950.00</td>\n",
       "      <td>6.00</td>\n",
       "      <td>5.00</td>\n",
       "      <td>5.00</td>\n",
       "    </tr>\n",
       "  </tbody>\n",
       "</table>\n",
       "</div>"
      ],
      "text/plain": [
       "       flat_price  buildup_area_sqft  price_per_sqft  new_age  carpet_area  \\\n",
       "count     4391.00            4391.00         4391.00  1536.00      3741.00   \n",
       "mean         2.24             983.21        20443.22     1.79       731.07   \n",
       "std          2.43             477.99        12784.84     1.02       375.61   \n",
       "min          0.14             300.00         2540.00     1.00       201.00   \n",
       "25%          0.78             675.00         9600.00     1.00       455.00   \n",
       "50%          1.42             856.00        18460.00     1.00       650.00   \n",
       "75%          2.65            1150.00        26735.00     2.00       835.00   \n",
       "max         23.50            4720.00        75000.00     4.00      2950.00   \n",
       "\n",
       "       bedrooms  bathrooms  balcony  \n",
       "count   4384.00    4028.00  4079.00  \n",
       "mean       2.02       2.14     0.97  \n",
       "std        0.87       0.68     1.13  \n",
       "min        1.00       1.00     0.00  \n",
       "25%        1.00       2.00     0.00  \n",
       "50%        2.00       2.00     1.00  \n",
       "75%        3.00       2.00     2.00  \n",
       "max        6.00       5.00     5.00  "
      ]
     },
     "execution_count": 108,
     "metadata": {},
     "output_type": "execute_result"
    }
   ],
   "source": [
    "df.describe()"
   ]
  },
  {
   "cell_type": "code",
   "execution_count": 110,
   "id": "bb57b43d",
   "metadata": {},
   "outputs": [],
   "source": [
    "df.to_csv(\"real_estate_cleaned_v3.csv\",index=False)"
   ]
  },
  {
   "cell_type": "code",
   "execution_count": null,
   "id": "3a0fdd03",
   "metadata": {},
   "outputs": [],
   "source": []
  }
 ],
 "metadata": {
  "kernelspec": {
   "display_name": "Python 3 (ipykernel)",
   "language": "python",
   "name": "python3"
  },
  "language_info": {
   "codemirror_mode": {
    "name": "ipython",
    "version": 3
   },
   "file_extension": ".py",
   "mimetype": "text/x-python",
   "name": "python",
   "nbconvert_exporter": "python",
   "pygments_lexer": "ipython3",
   "version": "3.11.4"
  }
 },
 "nbformat": 4,
 "nbformat_minor": 5
}
